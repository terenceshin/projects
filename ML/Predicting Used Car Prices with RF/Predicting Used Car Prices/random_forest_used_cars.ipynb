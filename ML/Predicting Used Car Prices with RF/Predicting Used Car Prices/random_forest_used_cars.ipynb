{
 "cells": [
  {
   "cell_type": "code",
   "execution_count": 5,
   "metadata": {},
   "outputs": [],
   "source": [
    "# Importing Libraries and Data\n",
    "import numpy as np\n",
    "import pandas as pd # data processing, CSV file I/O (e.g. pd.read_csv)\n",
    "\n",
    "df = pd.read_csv(r\"\\Users\\Terence\\Desktop\\Predicting Used Car Prices\\vehicles.csv\")"
   ]
  },
  {
   "cell_type": "code",
   "execution_count": 6,
   "metadata": {},
   "outputs": [
    {
     "name": "stdout",
     "output_type": "stream",
     "text": [
      "(539759, 25)\n",
      "Index(['id', 'url', 'region', 'region_url', 'price', 'year', 'manufacturer',\n",
      "       'model', 'condition', 'cylinders', 'fuel', 'odometer', 'title_status',\n",
      "       'transmission', 'vin', 'drive', 'size', 'type', 'paint_color',\n",
      "       'image_url', 'description', 'county', 'state', 'lat', 'long'],\n",
      "      dtype='object')\n"
     ]
    },
    {
     "data": {
      "text/html": [
       "<div>\n",
       "<style scoped>\n",
       "    .dataframe tbody tr th:only-of-type {\n",
       "        vertical-align: middle;\n",
       "    }\n",
       "\n",
       "    .dataframe tbody tr th {\n",
       "        vertical-align: top;\n",
       "    }\n",
       "\n",
       "    .dataframe thead th {\n",
       "        text-align: right;\n",
       "    }\n",
       "</style>\n",
       "<table border=\"1\" class=\"dataframe\">\n",
       "  <thead>\n",
       "    <tr style=\"text-align: right;\">\n",
       "      <th></th>\n",
       "      <th>id</th>\n",
       "      <th>url</th>\n",
       "      <th>region</th>\n",
       "      <th>region_url</th>\n",
       "      <th>price</th>\n",
       "      <th>year</th>\n",
       "      <th>manufacturer</th>\n",
       "      <th>model</th>\n",
       "      <th>condition</th>\n",
       "      <th>cylinders</th>\n",
       "      <th>...</th>\n",
       "      <th>drive</th>\n",
       "      <th>size</th>\n",
       "      <th>type</th>\n",
       "      <th>paint_color</th>\n",
       "      <th>image_url</th>\n",
       "      <th>description</th>\n",
       "      <th>county</th>\n",
       "      <th>state</th>\n",
       "      <th>lat</th>\n",
       "      <th>long</th>\n",
       "    </tr>\n",
       "  </thead>\n",
       "  <tbody>\n",
       "    <tr>\n",
       "      <td>0</td>\n",
       "      <td>7088746062</td>\n",
       "      <td>https://greensboro.craigslist.org/ctd/d/cary-2...</td>\n",
       "      <td>greensboro</td>\n",
       "      <td>https://greensboro.craigslist.org</td>\n",
       "      <td>10299</td>\n",
       "      <td>2012.0</td>\n",
       "      <td>acura</td>\n",
       "      <td>tl</td>\n",
       "      <td>NaN</td>\n",
       "      <td>NaN</td>\n",
       "      <td>...</td>\n",
       "      <td>NaN</td>\n",
       "      <td>NaN</td>\n",
       "      <td>other</td>\n",
       "      <td>blue</td>\n",
       "      <td>https://images.craigslist.org/01414_3LIXs9EO33...</td>\n",
       "      <td>2012 Acura TL Base 4dr Sedan     Offered by: B...</td>\n",
       "      <td>NaN</td>\n",
       "      <td>nc</td>\n",
       "      <td>35.7636</td>\n",
       "      <td>-78.7443</td>\n",
       "    </tr>\n",
       "    <tr>\n",
       "      <td>1</td>\n",
       "      <td>7088745301</td>\n",
       "      <td>https://greensboro.craigslist.org/ctd/d/bmw-3-...</td>\n",
       "      <td>greensboro</td>\n",
       "      <td>https://greensboro.craigslist.org</td>\n",
       "      <td>0</td>\n",
       "      <td>2011.0</td>\n",
       "      <td>bmw</td>\n",
       "      <td>335</td>\n",
       "      <td>NaN</td>\n",
       "      <td>6 cylinders</td>\n",
       "      <td>...</td>\n",
       "      <td>rwd</td>\n",
       "      <td>NaN</td>\n",
       "      <td>convertible</td>\n",
       "      <td>blue</td>\n",
       "      <td>https://images.craigslist.org/00S0S_1kTatLGLxB...</td>\n",
       "      <td>BMW 3 Series 335i Convertible Navigation Dakot...</td>\n",
       "      <td>NaN</td>\n",
       "      <td>nc</td>\n",
       "      <td>NaN</td>\n",
       "      <td>NaN</td>\n",
       "    </tr>\n",
       "    <tr>\n",
       "      <td>2</td>\n",
       "      <td>7088744126</td>\n",
       "      <td>https://greensboro.craigslist.org/cto/d/greens...</td>\n",
       "      <td>greensboro</td>\n",
       "      <td>https://greensboro.craigslist.org</td>\n",
       "      <td>9500</td>\n",
       "      <td>2011.0</td>\n",
       "      <td>jaguar</td>\n",
       "      <td>xf</td>\n",
       "      <td>excellent</td>\n",
       "      <td>NaN</td>\n",
       "      <td>...</td>\n",
       "      <td>NaN</td>\n",
       "      <td>NaN</td>\n",
       "      <td>NaN</td>\n",
       "      <td>blue</td>\n",
       "      <td>https://images.craigslist.org/00505_f22HGItCRp...</td>\n",
       "      <td>2011 jaguar XF premium - estate sale. Retired ...</td>\n",
       "      <td>NaN</td>\n",
       "      <td>nc</td>\n",
       "      <td>36.1032</td>\n",
       "      <td>-79.8794</td>\n",
       "    </tr>\n",
       "    <tr>\n",
       "      <td>3</td>\n",
       "      <td>7088743681</td>\n",
       "      <td>https://greensboro.craigslist.org/ctd/d/cary-2...</td>\n",
       "      <td>greensboro</td>\n",
       "      <td>https://greensboro.craigslist.org</td>\n",
       "      <td>3995</td>\n",
       "      <td>2004.0</td>\n",
       "      <td>honda</td>\n",
       "      <td>element</td>\n",
       "      <td>NaN</td>\n",
       "      <td>NaN</td>\n",
       "      <td>...</td>\n",
       "      <td>fwd</td>\n",
       "      <td>NaN</td>\n",
       "      <td>SUV</td>\n",
       "      <td>orange</td>\n",
       "      <td>https://images.craigslist.org/00E0E_eAUnhFF86M...</td>\n",
       "      <td>2004 Honda Element LX 4dr SUV     Offered by: ...</td>\n",
       "      <td>NaN</td>\n",
       "      <td>nc</td>\n",
       "      <td>35.7636</td>\n",
       "      <td>-78.7443</td>\n",
       "    </tr>\n",
       "    <tr>\n",
       "      <td>4</td>\n",
       "      <td>7074612539</td>\n",
       "      <td>https://lincoln.craigslist.org/ctd/d/gretna-20...</td>\n",
       "      <td>lincoln</td>\n",
       "      <td>https://lincoln.craigslist.org</td>\n",
       "      <td>41988</td>\n",
       "      <td>2016.0</td>\n",
       "      <td>chevrolet</td>\n",
       "      <td>silverado k2500hd</td>\n",
       "      <td>NaN</td>\n",
       "      <td>NaN</td>\n",
       "      <td>...</td>\n",
       "      <td>NaN</td>\n",
       "      <td>NaN</td>\n",
       "      <td>NaN</td>\n",
       "      <td>NaN</td>\n",
       "      <td>https://images.craigslist.org/00S0S_8msT7RQquO...</td>\n",
       "      <td>Shop Indoors, Heated Showroom!!!www.gretnaauto...</td>\n",
       "      <td>NaN</td>\n",
       "      <td>ne</td>\n",
       "      <td>41.1345</td>\n",
       "      <td>-96.2458</td>\n",
       "    </tr>\n",
       "  </tbody>\n",
       "</table>\n",
       "<p>5 rows × 25 columns</p>\n",
       "</div>"
      ],
      "text/plain": [
       "           id                                                url      region  \\\n",
       "0  7088746062  https://greensboro.craigslist.org/ctd/d/cary-2...  greensboro   \n",
       "1  7088745301  https://greensboro.craigslist.org/ctd/d/bmw-3-...  greensboro   \n",
       "2  7088744126  https://greensboro.craigslist.org/cto/d/greens...  greensboro   \n",
       "3  7088743681  https://greensboro.craigslist.org/ctd/d/cary-2...  greensboro   \n",
       "4  7074612539  https://lincoln.craigslist.org/ctd/d/gretna-20...     lincoln   \n",
       "\n",
       "                          region_url  price    year manufacturer  \\\n",
       "0  https://greensboro.craigslist.org  10299  2012.0        acura   \n",
       "1  https://greensboro.craigslist.org      0  2011.0          bmw   \n",
       "2  https://greensboro.craigslist.org   9500  2011.0       jaguar   \n",
       "3  https://greensboro.craigslist.org   3995  2004.0        honda   \n",
       "4     https://lincoln.craigslist.org  41988  2016.0    chevrolet   \n",
       "\n",
       "               model  condition    cylinders  ... drive  size         type  \\\n",
       "0                 tl        NaN          NaN  ...   NaN   NaN        other   \n",
       "1                335        NaN  6 cylinders  ...   rwd   NaN  convertible   \n",
       "2                 xf  excellent          NaN  ...   NaN   NaN          NaN   \n",
       "3            element        NaN          NaN  ...   fwd   NaN          SUV   \n",
       "4  silverado k2500hd        NaN          NaN  ...   NaN   NaN          NaN   \n",
       "\n",
       "  paint_color                                          image_url  \\\n",
       "0        blue  https://images.craigslist.org/01414_3LIXs9EO33...   \n",
       "1        blue  https://images.craigslist.org/00S0S_1kTatLGLxB...   \n",
       "2        blue  https://images.craigslist.org/00505_f22HGItCRp...   \n",
       "3      orange  https://images.craigslist.org/00E0E_eAUnhFF86M...   \n",
       "4         NaN  https://images.craigslist.org/00S0S_8msT7RQquO...   \n",
       "\n",
       "                                         description county state      lat  \\\n",
       "0  2012 Acura TL Base 4dr Sedan     Offered by: B...    NaN    nc  35.7636   \n",
       "1  BMW 3 Series 335i Convertible Navigation Dakot...    NaN    nc      NaN   \n",
       "2  2011 jaguar XF premium - estate sale. Retired ...    NaN    nc  36.1032   \n",
       "3  2004 Honda Element LX 4dr SUV     Offered by: ...    NaN    nc  35.7636   \n",
       "4  Shop Indoors, Heated Showroom!!!www.gretnaauto...    NaN    ne  41.1345   \n",
       "\n",
       "      long  \n",
       "0 -78.7443  \n",
       "1      NaN  \n",
       "2 -79.8794  \n",
       "3 -78.7443  \n",
       "4 -96.2458  \n",
       "\n",
       "[5 rows x 25 columns]"
      ]
     },
     "execution_count": 6,
     "metadata": {},
     "output_type": "execute_result"
    }
   ],
   "source": [
    "# Get a quick glimpse of what I'm working with\n",
    "print(df.shape)\n",
    "print(df.columns)\n",
    "df.head()"
   ]
  },
  {
   "cell_type": "code",
   "execution_count": 7,
   "metadata": {},
   "outputs": [
    {
     "data": {
      "text/html": [
       "<div>\n",
       "<style scoped>\n",
       "    .dataframe tbody tr th:only-of-type {\n",
       "        vertical-align: middle;\n",
       "    }\n",
       "\n",
       "    .dataframe tbody tr th {\n",
       "        vertical-align: top;\n",
       "    }\n",
       "\n",
       "    .dataframe thead th {\n",
       "        text-align: right;\n",
       "    }\n",
       "</style>\n",
       "<table border=\"1\" class=\"dataframe\">\n",
       "  <thead>\n",
       "    <tr style=\"text-align: right;\">\n",
       "      <th></th>\n",
       "      <th>id</th>\n",
       "      <th>price</th>\n",
       "      <th>year</th>\n",
       "      <th>odometer</th>\n",
       "      <th>county</th>\n",
       "      <th>lat</th>\n",
       "      <th>long</th>\n",
       "    </tr>\n",
       "  </thead>\n",
       "  <tbody>\n",
       "    <tr>\n",
       "      <td>count</td>\n",
       "      <td>539759.000000</td>\n",
       "      <td>539759.000000</td>\n",
       "      <td>538772.000000</td>\n",
       "      <td>440783.000000</td>\n",
       "      <td>0.000000</td>\n",
       "      <td>530785.000000</td>\n",
       "      <td>530785.000000</td>\n",
       "    </tr>\n",
       "    <tr>\n",
       "      <td>mean</td>\n",
       "      <td>7087608553.749804</td>\n",
       "      <td>195421.387573</td>\n",
       "      <td>2009.830982</td>\n",
       "      <td>100800.803259</td>\n",
       "      <td>nan</td>\n",
       "      <td>38.432128</td>\n",
       "      <td>-94.040501</td>\n",
       "    </tr>\n",
       "    <tr>\n",
       "      <td>std</td>\n",
       "      <td>5234175.784002</td>\n",
       "      <td>22082524.011577</td>\n",
       "      <td>9.161334</td>\n",
       "      <td>176705.802933</td>\n",
       "      <td>nan</td>\n",
       "      <td>5.916936</td>\n",
       "      <td>17.626658</td>\n",
       "    </tr>\n",
       "    <tr>\n",
       "      <td>min</td>\n",
       "      <td>7065764796.000000</td>\n",
       "      <td>0.000000</td>\n",
       "      <td>0.000000</td>\n",
       "      <td>0.000000</td>\n",
       "      <td>nan</td>\n",
       "      <td>-84.911400</td>\n",
       "      <td>-176.810000</td>\n",
       "    </tr>\n",
       "    <tr>\n",
       "      <td>25%</td>\n",
       "      <td>7084240305.500000</td>\n",
       "      <td>4400.000000</td>\n",
       "      <td>2007.000000</td>\n",
       "      <td>47038.500000</td>\n",
       "      <td>nan</td>\n",
       "      <td>34.197100</td>\n",
       "      <td>-106.782000</td>\n",
       "    </tr>\n",
       "    <tr>\n",
       "      <td>50%</td>\n",
       "      <td>7088972959.000000</td>\n",
       "      <td>9500.000000</td>\n",
       "      <td>2012.000000</td>\n",
       "      <td>93300.000000</td>\n",
       "      <td>nan</td>\n",
       "      <td>39.077600</td>\n",
       "      <td>-88.100900</td>\n",
       "    </tr>\n",
       "    <tr>\n",
       "      <td>75%</td>\n",
       "      <td>7092094043.000000</td>\n",
       "      <td>17926.000000</td>\n",
       "      <td>2015.000000</td>\n",
       "      <td>137755.000000</td>\n",
       "      <td>nan</td>\n",
       "      <td>42.449100</td>\n",
       "      <td>-81.219000</td>\n",
       "    </tr>\n",
       "    <tr>\n",
       "      <td>max</td>\n",
       "      <td>7093536715.000000</td>\n",
       "      <td>4294967295.000000</td>\n",
       "      <td>2021.000000</td>\n",
       "      <td>64809218.000000</td>\n",
       "      <td>nan</td>\n",
       "      <td>84.514800</td>\n",
       "      <td>161.016000</td>\n",
       "    </tr>\n",
       "  </tbody>\n",
       "</table>\n",
       "</div>"
      ],
      "text/plain": [
       "                      id              price           year         odometer  \\\n",
       "count      539759.000000      539759.000000  538772.000000    440783.000000   \n",
       "mean   7087608553.749804      195421.387573    2009.830982    100800.803259   \n",
       "std       5234175.784002    22082524.011577       9.161334    176705.802933   \n",
       "min    7065764796.000000           0.000000       0.000000         0.000000   \n",
       "25%    7084240305.500000        4400.000000    2007.000000     47038.500000   \n",
       "50%    7088972959.000000        9500.000000    2012.000000     93300.000000   \n",
       "75%    7092094043.000000       17926.000000    2015.000000    137755.000000   \n",
       "max    7093536715.000000  4294967295.000000    2021.000000  64809218.000000   \n",
       "\n",
       "         county            lat           long  \n",
       "count  0.000000  530785.000000  530785.000000  \n",
       "mean        nan      38.432128     -94.040501  \n",
       "std         nan       5.916936      17.626658  \n",
       "min         nan     -84.911400    -176.810000  \n",
       "25%         nan      34.197100    -106.782000  \n",
       "50%         nan      39.077600     -88.100900  \n",
       "75%         nan      42.449100     -81.219000  \n",
       "max         nan      84.514800     161.016000  "
      ]
     },
     "execution_count": 7,
     "metadata": {},
     "output_type": "execute_result"
    }
   ],
   "source": [
    "# Want to better understand my numerical variables, specifically the min and max (range)\n",
    "df.describe().apply(lambda s: s.apply(lambda x: format(x, 'f')))"
   ]
  },
  {
   "cell_type": "code",
   "execution_count": 9,
   "metadata": {},
   "outputs": [
    {
     "data": {
      "text/plain": [
       "id              539759\n",
       "url             539759\n",
       "region             403\n",
       "region_url         413\n",
       "price            18386\n",
       "year               113\n",
       "manufacturer        43\n",
       "model            36948\n",
       "condition            6\n",
       "cylinders            8\n",
       "fuel                 5\n",
       "odometer        122400\n",
       "title_status         6\n",
       "transmission         3\n",
       "vin             181677\n",
       "drive                3\n",
       "size                 4\n",
       "type                13\n",
       "paint_color         12\n",
       "image_url       364282\n",
       "description     454053\n",
       "county               0\n",
       "state               51\n",
       "lat              54587\n",
       "long             54552\n",
       "dtype: int64"
      ]
     },
     "execution_count": 9,
     "metadata": {},
     "output_type": "execute_result"
    }
   ],
   "source": [
    "# Want to better understand categorical data\n",
    "df.nunique(axis=0)"
   ]
  },
  {
   "cell_type": "code",
   "execution_count": 10,
   "metadata": {},
   "outputs": [
    {
     "data": {
      "text/plain": [
       "id                int64\n",
       "url              object\n",
       "region           object\n",
       "region_url       object\n",
       "price             int64\n",
       "year            float64\n",
       "manufacturer     object\n",
       "model            object\n",
       "condition        object\n",
       "cylinders        object\n",
       "fuel             object\n",
       "odometer        float64\n",
       "title_status     object\n",
       "transmission     object\n",
       "vin              object\n",
       "drive            object\n",
       "size             object\n",
       "type             object\n",
       "paint_color      object\n",
       "image_url        object\n",
       "description      object\n",
       "county          float64\n",
       "state            object\n",
       "lat             float64\n",
       "long            float64\n",
       "dtype: object"
      ]
     },
     "execution_count": 10,
     "metadata": {},
     "output_type": "execute_result"
    }
   ],
   "source": [
    "df.dtypes"
   ]
  },
  {
   "cell_type": "code",
   "execution_count": 11,
   "metadata": {},
   "outputs": [
    {
     "data": {
      "text/plain": [
       "Index(['id', 'url', 'region', 'region_url', 'price', 'year', 'manufacturer',\n",
       "       'model', 'fuel', 'odometer', 'title_status', 'transmission', 'drive',\n",
       "       'type', 'paint_color', 'image_url', 'description', 'state', 'lat',\n",
       "       'long'],\n",
       "      dtype='object')"
      ]
     },
     "execution_count": 11,
     "metadata": {},
     "output_type": "execute_result"
    }
   ],
   "source": [
    "# Remove columns with more than 40% missing values\n",
    "NA_val = df.isna().sum()\n",
    "\n",
    "def na_filter(na, threshold = .4): #only select variables that passees the threshold\n",
    "    col_pass = []\n",
    "    for i in na.keys():\n",
    "        if na[i]/df.shape[0]<threshold:\n",
    "            col_pass.append(i)\n",
    "    return col_pass\n",
    "\n",
    "df_cleaned = df[na_filter(NA_val)]\n",
    "df_cleaned.columns"
   ]
  },
  {
   "cell_type": "code",
   "execution_count": 12,
   "metadata": {},
   "outputs": [
    {
     "data": {
      "text/html": [
       "<div>\n",
       "<style scoped>\n",
       "    .dataframe tbody tr th:only-of-type {\n",
       "        vertical-align: middle;\n",
       "    }\n",
       "\n",
       "    .dataframe tbody tr th {\n",
       "        vertical-align: top;\n",
       "    }\n",
       "\n",
       "    .dataframe thead th {\n",
       "        text-align: right;\n",
       "    }\n",
       "</style>\n",
       "<table border=\"1\" class=\"dataframe\">\n",
       "  <thead>\n",
       "    <tr style=\"text-align: right;\">\n",
       "      <th></th>\n",
       "      <th>id</th>\n",
       "      <th>price</th>\n",
       "      <th>year</th>\n",
       "      <th>odometer</th>\n",
       "      <th>lat</th>\n",
       "      <th>long</th>\n",
       "    </tr>\n",
       "  </thead>\n",
       "  <tbody>\n",
       "    <tr>\n",
       "      <td>count</td>\n",
       "      <td>4.809900e+05</td>\n",
       "      <td>480990.000000</td>\n",
       "      <td>480061.000000</td>\n",
       "      <td>3.978080e+05</td>\n",
       "      <td>476979.000000</td>\n",
       "      <td>476979.000000</td>\n",
       "    </tr>\n",
       "    <tr>\n",
       "      <td>mean</td>\n",
       "      <td>7.087621e+09</td>\n",
       "      <td>14089.139173</td>\n",
       "      <td>2009.559868</td>\n",
       "      <td>1.028304e+05</td>\n",
       "      <td>38.482458</td>\n",
       "      <td>-93.881953</td>\n",
       "    </tr>\n",
       "    <tr>\n",
       "      <td>std</td>\n",
       "      <td>5.223495e+06</td>\n",
       "      <td>11597.483428</td>\n",
       "      <td>9.266086</td>\n",
       "      <td>1.816533e+05</td>\n",
       "      <td>5.932163</td>\n",
       "      <td>17.524500</td>\n",
       "    </tr>\n",
       "    <tr>\n",
       "      <td>min</td>\n",
       "      <td>7.065765e+09</td>\n",
       "      <td>1000.000000</td>\n",
       "      <td>0.000000</td>\n",
       "      <td>0.000000e+00</td>\n",
       "      <td>-84.911400</td>\n",
       "      <td>-176.810000</td>\n",
       "    </tr>\n",
       "    <tr>\n",
       "      <td>25%</td>\n",
       "      <td>7.084268e+09</td>\n",
       "      <td>5900.000000</td>\n",
       "      <td>2007.000000</td>\n",
       "      <td>4.919500e+04</td>\n",
       "      <td>34.254300</td>\n",
       "      <td>-106.458000</td>\n",
       "    </tr>\n",
       "    <tr>\n",
       "      <td>50%</td>\n",
       "      <td>7.088985e+09</td>\n",
       "      <td>10995.000000</td>\n",
       "      <td>2011.000000</td>\n",
       "      <td>9.566100e+04</td>\n",
       "      <td>39.123400</td>\n",
       "      <td>-88.049000</td>\n",
       "    </tr>\n",
       "    <tr>\n",
       "      <td>75%</td>\n",
       "      <td>7.092091e+09</td>\n",
       "      <td>18995.000000</td>\n",
       "      <td>2015.000000</td>\n",
       "      <td>1.400000e+05</td>\n",
       "      <td>42.463800</td>\n",
       "      <td>-81.165500</td>\n",
       "    </tr>\n",
       "    <tr>\n",
       "      <td>max</td>\n",
       "      <td>7.093537e+09</td>\n",
       "      <td>250000.000000</td>\n",
       "      <td>2021.000000</td>\n",
       "      <td>6.480922e+07</td>\n",
       "      <td>84.514800</td>\n",
       "      <td>161.016000</td>\n",
       "    </tr>\n",
       "  </tbody>\n",
       "</table>\n",
       "</div>"
      ],
      "text/plain": [
       "                 id          price           year      odometer  \\\n",
       "count  4.809900e+05  480990.000000  480061.000000  3.978080e+05   \n",
       "mean   7.087621e+09   14089.139173    2009.559868  1.028304e+05   \n",
       "std    5.223495e+06   11597.483428       9.266086  1.816533e+05   \n",
       "min    7.065765e+09    1000.000000       0.000000  0.000000e+00   \n",
       "25%    7.084268e+09    5900.000000    2007.000000  4.919500e+04   \n",
       "50%    7.088985e+09   10995.000000    2011.000000  9.566100e+04   \n",
       "75%    7.092091e+09   18995.000000    2015.000000  1.400000e+05   \n",
       "max    7.093537e+09  250000.000000    2021.000000  6.480922e+07   \n",
       "\n",
       "                 lat           long  \n",
       "count  476979.000000  476979.000000  \n",
       "mean       38.482458     -93.881953  \n",
       "std         5.932163      17.524500  \n",
       "min       -84.911400    -176.810000  \n",
       "25%        34.254300    -106.458000  \n",
       "50%        39.123400     -88.049000  \n",
       "75%        42.463800     -81.165500  \n",
       "max        84.514800     161.016000  "
      ]
     },
     "execution_count": 12,
     "metadata": {},
     "output_type": "execute_result"
    }
   ],
   "source": [
    "### Getting rid of outliers for dependent variable ###\n",
    "df_cleaned = df_cleaned[df_cleaned['price'].between(999.99, 250000)] # need to first get rid of unrealistic points to compute IQR more accurately\n",
    "df_cleaned.describe()"
   ]
  },
  {
   "cell_type": "code",
   "execution_count": 13,
   "metadata": {},
   "outputs": [
    {
     "data": {
      "text/plain": [
       "<matplotlib.axes._subplots.AxesSubplot at 0x196d187d288>"
      ]
     },
     "execution_count": 13,
     "metadata": {},
     "output_type": "execute_result"
    }
   ],
   "source": [
    "# Computing IQR\n",
    "Q1 = df_cleaned['price'].quantile(0.25)\n",
    "Q3 = df_cleaned['price'].quantile(0.75)\n",
    "IQR = Q3 - Q1\n",
    "\n",
    "# Filtering Values between Q1-1.5IQR and Q3+1.5IQR\n",
    "df_filtered = df_cleaned.query('(@Q1 - 1.5 * @IQR) <= price <= (@Q3 + 1.5 * @IQR)')\n",
    "df_filtered.boxplot('price')"
   ]
  },
  {
   "cell_type": "code",
   "execution_count": 14,
   "metadata": {},
   "outputs": [
    {
     "data": {
      "text/html": [
       "<div>\n",
       "<style scoped>\n",
       "    .dataframe tbody tr th:only-of-type {\n",
       "        vertical-align: middle;\n",
       "    }\n",
       "\n",
       "    .dataframe tbody tr th {\n",
       "        vertical-align: top;\n",
       "    }\n",
       "\n",
       "    .dataframe thead th {\n",
       "        text-align: right;\n",
       "    }\n",
       "</style>\n",
       "<table border=\"1\" class=\"dataframe\">\n",
       "  <thead>\n",
       "    <tr style=\"text-align: right;\">\n",
       "      <th></th>\n",
       "      <th>id</th>\n",
       "      <th>price</th>\n",
       "      <th>year</th>\n",
       "      <th>odometer</th>\n",
       "      <th>lat</th>\n",
       "      <th>long</th>\n",
       "    </tr>\n",
       "  </thead>\n",
       "  <tbody>\n",
       "    <tr>\n",
       "      <td>count</td>\n",
       "      <td>464354.000000</td>\n",
       "      <td>464354.000000</td>\n",
       "      <td>463765.000000</td>\n",
       "      <td>383129.000000</td>\n",
       "      <td>460523.000000</td>\n",
       "      <td>460523.000000</td>\n",
       "    </tr>\n",
       "    <tr>\n",
       "      <td>mean</td>\n",
       "      <td>7087623849.464673</td>\n",
       "      <td>12748.572374</td>\n",
       "      <td>2009.409179</td>\n",
       "      <td>104964.186919</td>\n",
       "      <td>38.461849</td>\n",
       "      <td>-93.644432</td>\n",
       "    </tr>\n",
       "    <tr>\n",
       "      <td>std</td>\n",
       "      <td>5220950.531307</td>\n",
       "      <td>8682.629866</td>\n",
       "      <td>9.126002</td>\n",
       "      <td>183079.280853</td>\n",
       "      <td>5.905147</td>\n",
       "      <td>17.435375</td>\n",
       "    </tr>\n",
       "    <tr>\n",
       "      <td>min</td>\n",
       "      <td>7065764796.000000</td>\n",
       "      <td>1000.000000</td>\n",
       "      <td>0.000000</td>\n",
       "      <td>0.000000</td>\n",
       "      <td>-84.911400</td>\n",
       "      <td>-176.810000</td>\n",
       "    </tr>\n",
       "    <tr>\n",
       "      <td>25%</td>\n",
       "      <td>7084276125.500000</td>\n",
       "      <td>5708.500000</td>\n",
       "      <td>2006.000000</td>\n",
       "      <td>52532.000000</td>\n",
       "      <td>34.263900</td>\n",
       "      <td>-105.948000</td>\n",
       "    </tr>\n",
       "    <tr>\n",
       "      <td>50%</td>\n",
       "      <td>7088987016.500000</td>\n",
       "      <td>10550.000000</td>\n",
       "      <td>2011.000000</td>\n",
       "      <td>98152.000000</td>\n",
       "      <td>39.123400</td>\n",
       "      <td>-87.871700</td>\n",
       "    </tr>\n",
       "    <tr>\n",
       "      <td>75%</td>\n",
       "      <td>7092091386.750000</td>\n",
       "      <td>17995.000000</td>\n",
       "      <td>2015.000000</td>\n",
       "      <td>141500.000000</td>\n",
       "      <td>42.449000</td>\n",
       "      <td>-81.033900</td>\n",
       "    </tr>\n",
       "    <tr>\n",
       "      <td>max</td>\n",
       "      <td>7093536715.000000</td>\n",
       "      <td>38629.000000</td>\n",
       "      <td>2021.000000</td>\n",
       "      <td>64809218.000000</td>\n",
       "      <td>84.514800</td>\n",
       "      <td>161.016000</td>\n",
       "    </tr>\n",
       "  </tbody>\n",
       "</table>\n",
       "</div>"
      ],
      "text/plain": [
       "                      id          price           year         odometer  \\\n",
       "count      464354.000000  464354.000000  463765.000000    383129.000000   \n",
       "mean   7087623849.464673   12748.572374    2009.409179    104964.186919   \n",
       "std       5220950.531307    8682.629866       9.126002    183079.280853   \n",
       "min    7065764796.000000    1000.000000       0.000000         0.000000   \n",
       "25%    7084276125.500000    5708.500000    2006.000000     52532.000000   \n",
       "50%    7088987016.500000   10550.000000    2011.000000     98152.000000   \n",
       "75%    7092091386.750000   17995.000000    2015.000000    141500.000000   \n",
       "max    7093536715.000000   38629.000000    2021.000000  64809218.000000   \n",
       "\n",
       "                 lat           long  \n",
       "count  460523.000000  460523.000000  \n",
       "mean       38.461849     -93.644432  \n",
       "std         5.905147      17.435375  \n",
       "min       -84.911400    -176.810000  \n",
       "25%        34.263900    -105.948000  \n",
       "50%        39.123400     -87.871700  \n",
       "75%        42.449000     -81.033900  \n",
       "max        84.514800     161.016000  "
      ]
     },
     "execution_count": 14,
     "metadata": {},
     "output_type": "execute_result"
    }
   ],
   "source": [
    "# Checking values again\n",
    "df_filtered.describe().apply(lambda s: s.apply(lambda x: format(x, 'f')))"
   ]
  },
  {
   "cell_type": "code",
   "execution_count": 15,
   "metadata": {},
   "outputs": [
    {
     "name": "stdout",
     "output_type": "stream",
     "text": [
      "(378282, 20)\n",
      "Index(['id', 'url', 'region', 'region_url', 'price', 'year', 'manufacturer',\n",
      "       'model', 'fuel', 'odometer', 'title_status', 'transmission', 'drive',\n",
      "       'type', 'paint_color', 'image_url', 'description', 'state', 'lat',\n",
      "       'long'],\n",
      "      dtype='object')\n"
     ]
    }
   ],
   "source": [
    "# Removing unrealistic outliers for independent variables\n",
    "\n",
    "df_filtered = df_filtered[df_filtered['year'].between(1900, 2020)] # cant be newer than 2020\n",
    "df_filtered = df_filtered[df_filtered['odometer'].between(0, 271431.5)] # = 140000 + 1.5 * (140000-52379)\n",
    "print(df_filtered.shape)\n",
    "print(df_filtered.columns)"
   ]
  },
  {
   "cell_type": "code",
   "execution_count": 16,
   "metadata": {},
   "outputs": [
    {
     "data": {
      "text/plain": [
       "id                  0\n",
       "url                 0\n",
       "region              0\n",
       "region_url          0\n",
       "price               0\n",
       "year                0\n",
       "manufacturer    10708\n",
       "model            3537\n",
       "fuel             2562\n",
       "odometer            0\n",
       "title_status     2106\n",
       "transmission     2981\n",
       "drive           79540\n",
       "type            69690\n",
       "paint_color     92161\n",
       "image_url           0\n",
       "description         2\n",
       "state               0\n",
       "lat              3228\n",
       "long             3228\n",
       "dtype: int64"
      ]
     },
     "execution_count": 16,
     "metadata": {},
     "output_type": "execute_result"
    }
   ],
   "source": [
    "# summary of NA values present\n",
    "df_filtered.isna().sum()"
   ]
  },
  {
   "cell_type": "code",
   "execution_count": 17,
   "metadata": {},
   "outputs": [
    {
     "data": {
      "text/plain": [
       "(378282, 11)"
      ]
     },
     "execution_count": 17,
     "metadata": {},
     "output_type": "execute_result"
    }
   ],
   "source": [
    "# Dropping last few columns\n",
    "\n",
    "df_final = df_filtered.copy().drop(['id','url','region_url','image_url','region','description','model','state','paint_color'], axis=1) #removing region since lat/long mean same thing\n",
    "df_final.shape"
   ]
  },
  {
   "cell_type": "code",
   "execution_count": 18,
   "metadata": {},
   "outputs": [
    {
     "data": {
      "text/plain": [
       "(250461, 11)"
      ]
     },
     "execution_count": 18,
     "metadata": {},
     "output_type": "execute_result"
    }
   ],
   "source": [
    "# Dropping rows with null values\n",
    "df_final = df_final.dropna(axis=0)\n",
    "df_final.shape"
   ]
  },
  {
   "cell_type": "code",
   "execution_count": 19,
   "metadata": {},
   "outputs": [
    {
     "data": {
      "text/plain": [
       "<matplotlib.axes._subplots.AxesSubplot at 0x1986c977b48>"
      ]
     },
     "execution_count": 19,
     "metadata": {},
     "output_type": "execute_result"
    },
    {
     "data": {
      "image/png": "[encoded data removed]",
      "text/plain": [
       "<Figure size 432x288 with 2 Axes>"
      ]
     },
     "metadata": {
      "needs_background": "light"
     },
     "output_type": "display_data"
    }
   ],
   "source": [
    "import matplotlib.pylab as plt\n",
    "import seaborn as sns\n",
    "\n",
    "# calculate correlation matrix\n",
    "corr = df_final.corr()\n",
    "# plot the heatmap\n",
    "sns.heatmap(corr, xticklabels=corr.columns, yticklabels=corr.columns, annot=True, cmap=sns.diverging_palette(220, 20, as_cmap=True))"
   ]
  },
  {
   "cell_type": "code",
   "execution_count": 20,
   "metadata": {},
   "outputs": [
    {
     "data": {
      "text/plain": [
       "<matplotlib.axes._subplots.AxesSubplot at 0x1986caac088>"
      ]
     },
     "execution_count": 20,
     "metadata": {},
     "output_type": "execute_result"
    },
    {
     "data": {
      "image/png": "[encoded data removed]",
      "text/plain": [
       "<Figure size 432x288 with 1 Axes>"
      ]
     },
     "metadata": {
      "needs_background": "light"
     },
     "output_type": "display_data"
    }
   ],
   "source": [
    "df_final['manufacturer'].value_counts().plot(kind='bar')"
   ]
  },
  {
   "cell_type": "code",
   "execution_count": 21,
   "metadata": {},
   "outputs": [
    {
     "data": {
      "text/plain": [
       "<matplotlib.axes._subplots.AxesSubplot at 0x1986cbf4948>"
      ]
     },
     "execution_count": 21,
     "metadata": {},
     "output_type": "execute_result"
    },
    {
     "data": {
      "image/png": "[encoded data removed]",
      "text/plain": [
       "<Figure size 432x288 with 1 Axes>"
      ]
     },
     "metadata": {
      "needs_background": "light"
     },
     "output_type": "display_data"
    }
   ],
   "source": [
    "df_cleaned['type'].value_counts().plot(kind='bar')"
   ]
  },
  {
   "cell_type": "code",
   "execution_count": 22,
   "metadata": {},
   "outputs": [
    {
     "name": "stdout",
     "output_type": "stream",
     "text": [
      "Index(['price', 'year', 'odometer', 'lat', 'long', 'manufacturer_alfa-romeo',\n",
      "       'manufacturer_audi', 'manufacturer_bmw', 'manufacturer_buick',\n",
      "       'manufacturer_cadillac', 'manufacturer_chevrolet',\n",
      "       'manufacturer_chrysler', 'manufacturer_datsun', 'manufacturer_dodge',\n",
      "       'manufacturer_ferrari', 'manufacturer_fiat', 'manufacturer_ford',\n",
      "       'manufacturer_gmc', 'manufacturer_harley-davidson',\n",
      "       'manufacturer_honda', 'manufacturer_hyundai', 'manufacturer_infiniti',\n",
      "       'manufacturer_jaguar', 'manufacturer_jeep', 'manufacturer_kia',\n",
      "       'manufacturer_land rover', 'manufacturer_lexus', 'manufacturer_lincoln',\n",
      "       'manufacturer_mazda', 'manufacturer_mercedes-benz',\n",
      "       'manufacturer_mercury', 'manufacturer_mini', 'manufacturer_mitsubishi',\n",
      "       'manufacturer_nissan', 'manufacturer_pontiac', 'manufacturer_porche',\n",
      "       'manufacturer_ram', 'manufacturer_rover', 'manufacturer_saturn',\n",
      "       'manufacturer_subaru', 'manufacturer_tesla', 'manufacturer_toyota',\n",
      "       'manufacturer_volkswagen', 'manufacturer_volvo', 'fuel_electric',\n",
      "       'fuel_gas', 'fuel_hybrid', 'fuel_other', 'title_status_lien',\n",
      "       'title_status_missing', 'title_status_parts only',\n",
      "       'title_status_rebuilt', 'title_status_salvage', 'transmission_manual',\n",
      "       'transmission_other', 'drive_fwd', 'drive_rwd', 'type_bus',\n",
      "       'type_convertible', 'type_coupe', 'type_hatchback', 'type_mini-van',\n",
      "       'type_offroad', 'type_other', 'type_pickup', 'type_sedan', 'type_truck',\n",
      "       'type_van', 'type_wagon'],\n",
      "      dtype='object')\n"
     ]
    }
   ],
   "source": [
    "# Converting categorical variables into dummy variables\n",
    "df_final = pd.get_dummies(df_final, drop_first=True)\n",
    "print(df_final.columns)"
   ]
  },
  {
   "cell_type": "code",
   "execution_count": 23,
   "metadata": {},
   "outputs": [],
   "source": [
    "# Scaling the data\n",
    "from sklearn.preprocessing import StandardScaler\n",
    "X_head = df_final.iloc[:, df_final.columns != 'price']\n",
    "\n",
    "X = df_final.loc[:, df_final.columns != 'price']\n",
    "y = df_final['price']\n",
    "X = StandardScaler().fit_transform(X)"
   ]
  },
  {
   "cell_type": "code",
   "execution_count": 24,
   "metadata": {},
   "outputs": [
    {
     "name": "stderr",
     "output_type": "stream",
     "text": [
      "C:\\Users\\Terence\\Anaconda3\\lib\\site-packages\\sklearn\\ensemble\\forest.py:245: FutureWarning: The default value of n_estimators will change from 10 in version 0.20 to 100 in 0.22.\n",
      "  \"10 in version 0.20 to 100 in 0.22.\", FutureWarning)\n"
     ]
    }
   ],
   "source": [
    "# Creating the model\n",
    "from sklearn.ensemble import RandomForestRegressor\n",
    "from sklearn.model_selection import train_test_split\n",
    "from sklearn.metrics import mean_absolute_error as mae\n",
    "\n",
    "X_train, X_test, y_train, y_test = train_test_split(X, y, test_size=.25, random_state=0)\n",
    "model = RandomForestRegressor(random_state=1)\n",
    "model.fit(X_train, y_train)\n",
    "pred = model.predict(X_test)"
   ]
  },
  {
   "cell_type": "code",
   "execution_count": 25,
   "metadata": {},
   "outputs": [
    {
     "name": "stdout",
     "output_type": "stream",
     "text": [
      "1741.711083553408\n",
      "13694.816793832173\n"
     ]
    }
   ],
   "source": [
    "# Checking accuracy of model\n",
    "print(mae(y_test, pred))\n",
    "print(df_final['price'].mean())"
   ]
  },
  {
   "cell_type": "code",
   "execution_count": 26,
   "metadata": {},
   "outputs": [
    {
     "data": {
      "text/plain": [
       "0.8823434540557525"
      ]
     },
     "execution_count": 26,
     "metadata": {},
     "output_type": "execute_result"
    }
   ],
   "source": [
    "model.score(X_test,y_test)"
   ]
  },
  {
   "cell_type": "code",
   "execution_count": 27,
   "metadata": {},
   "outputs": [
    {
     "data": {
      "text/plain": [
       "<matplotlib.axes._subplots.AxesSubplot at 0x1986cc7ad08>"
      ]
     },
     "execution_count": 27,
     "metadata": {},
     "output_type": "execute_result"
    },
    {
     "data": {
      "image/png": "[encoded data removed]",
      "text/plain": [
       "<Figure size 720x720 with 1 Axes>"
      ]
     },
     "metadata": {
      "needs_background": "light"
     },
     "output_type": "display_data"
    }
   ],
   "source": [
    "feat_importances = pd.Series(model.feature_importances_, index=X_head.columns)\n",
    "feat_importances.nlargest(25).plot(kind='barh',figsize=(10,10))"
   ]
  }
 ],
 "metadata": {
  "kernelspec": {
   "display_name": "Python 3",
   "language": "python",
   "name": "python3"
  },
  "language_info": {
   "codemirror_mode": {
    "name": "ipython",
    "version": 3
   },
   "file_extension": ".py",
   "mimetype": "text/x-python",
   "name": "python",
   "nbconvert_exporter": "python",
   "pygments_lexer": "ipython3",
   "version": "3.7.4"
  }
 },
 "nbformat": 4,
 "nbformat_minor": 2
}
